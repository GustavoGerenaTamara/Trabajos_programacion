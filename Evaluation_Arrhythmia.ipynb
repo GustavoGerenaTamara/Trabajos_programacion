{
  "nbformat": 4,
  "nbformat_minor": 0,
  "metadata": {
    "colab": {
      "provenance": [],
      "collapsed_sections": [],
      "include_colab_link": true
    },
    "kernelspec": {
      "name": "python3",
      "display_name": "Python 3"
    },
    "language_info": {
      "name": "python"
    }
  },
  "cells": [
    {
      "cell_type": "markdown",
      "metadata": {
        "id": "view-in-github",
        "colab_type": "text"
      },
      "source": [
        "<a href=\"https://colab.research.google.com/github/GustavoGerenaTamara/Trabajos_programacion/blob/main/Evaluation_Arrhythmia.ipynb\" target=\"_parent\"><img src=\"https://colab.research.google.com/assets/colab-badge.svg\" alt=\"Open In Colab\"/></a>"
      ]
    },
    {
      "cell_type": "markdown",
      "source": [
        "# Evaluación 1 Tópicos\n",
        "#Clasificadores\n",
        "Gustavo Gerena\n",
        "\n",
        "Conjunto de datos usado:\n",
        "https://archive.ics.uci.edu/ml/machine-learning-databases/arrhythmia/arrhythmia.data\n",
        "\n",
        "Conjunto de datos\n",
        "\n",
        "https://archive.ics.uci.edu/ml/machine-learning-databases/arrhythmia/arrhythmia.data\n",
        "\n",
        "\n",
        "Clasificadores usados\n",
        "1. Redes neuronales (capas densas\n",
        "2. Respuesta más repetida\n",
        " \n"
      ],
      "metadata": {
        "id": "PbKDtjwkPksZ"
      }
    },
    {
      "cell_type": "code",
      "execution_count": null,
      "metadata": {
        "id": "4qiYArwgPjHl"
      },
      "outputs": [],
      "source": []
    },
    {
      "cell_type": "markdown",
      "source": [
        "Selección de columnas relevantes\n",
        "1 Age: Age in years , linear\n",
        "3 Height: Height in centimeters , linear\n",
        "4 Weight: Weight in kilograms , linear\n",
        "5 QRS duration: Average of QRS duration in msec., linear\n",
        "10 QRS \n",
        "\n",
        "Selección de columna de salida\n",
        "10 QRS\n",
        "\n"
      ],
      "metadata": {
        "id": "fQqY8cf0PsrG"
      }
    },
    {
      "cell_type": "markdown",
      "source": [
        "Se importan los datos"
      ],
      "metadata": {
        "id": "MGeHBTS2Tn70"
      }
    },
    {
      "cell_type": "code",
      "source": [
        "from google.colab import files \n",
        "uploaded = files.upload()"
      ],
      "metadata": {
        "id": "rNJVantevhXC",
        "colab": {
          "base_uri": "https://localhost:8080/",
          "height": 74
        },
        "outputId": "7fd2f58d-9601-4085-cdf2-d7be8003eefe"
      },
      "execution_count": 2,
      "outputs": [
        {
          "output_type": "display_data",
          "data": {
            "text/plain": [
              "<IPython.core.display.HTML object>"
            ],
            "text/html": [
              "\n",
              "     <input type=\"file\" id=\"files-fd36c157-bdce-4704-86d6-31370d311a78\" name=\"files[]\" multiple disabled\n",
              "        style=\"border:none\" />\n",
              "     <output id=\"result-fd36c157-bdce-4704-86d6-31370d311a78\">\n",
              "      Upload widget is only available when the cell has been executed in the\n",
              "      current browser session. Please rerun this cell to enable.\n",
              "      </output>\n",
              "      <script>// Copyright 2017 Google LLC\n",
              "//\n",
              "// Licensed under the Apache License, Version 2.0 (the \"License\");\n",
              "// you may not use this file except in compliance with the License.\n",
              "// You may obtain a copy of the License at\n",
              "//\n",
              "//      http://www.apache.org/licenses/LICENSE-2.0\n",
              "//\n",
              "// Unless required by applicable law or agreed to in writing, software\n",
              "// distributed under the License is distributed on an \"AS IS\" BASIS,\n",
              "// WITHOUT WARRANTIES OR CONDITIONS OF ANY KIND, either express or implied.\n",
              "// See the License for the specific language governing permissions and\n",
              "// limitations under the License.\n",
              "\n",
              "/**\n",
              " * @fileoverview Helpers for google.colab Python module.\n",
              " */\n",
              "(function(scope) {\n",
              "function span(text, styleAttributes = {}) {\n",
              "  const element = document.createElement('span');\n",
              "  element.textContent = text;\n",
              "  for (const key of Object.keys(styleAttributes)) {\n",
              "    element.style[key] = styleAttributes[key];\n",
              "  }\n",
              "  return element;\n",
              "}\n",
              "\n",
              "// Max number of bytes which will be uploaded at a time.\n",
              "const MAX_PAYLOAD_SIZE = 100 * 1024;\n",
              "\n",
              "function _uploadFiles(inputId, outputId) {\n",
              "  const steps = uploadFilesStep(inputId, outputId);\n",
              "  const outputElement = document.getElementById(outputId);\n",
              "  // Cache steps on the outputElement to make it available for the next call\n",
              "  // to uploadFilesContinue from Python.\n",
              "  outputElement.steps = steps;\n",
              "\n",
              "  return _uploadFilesContinue(outputId);\n",
              "}\n",
              "\n",
              "// This is roughly an async generator (not supported in the browser yet),\n",
              "// where there are multiple asynchronous steps and the Python side is going\n",
              "// to poll for completion of each step.\n",
              "// This uses a Promise to block the python side on completion of each step,\n",
              "// then passes the result of the previous step as the input to the next step.\n",
              "function _uploadFilesContinue(outputId) {\n",
              "  const outputElement = document.getElementById(outputId);\n",
              "  const steps = outputElement.steps;\n",
              "\n",
              "  const next = steps.next(outputElement.lastPromiseValue);\n",
              "  return Promise.resolve(next.value.promise).then((value) => {\n",
              "    // Cache the last promise value to make it available to the next\n",
              "    // step of the generator.\n",
              "    outputElement.lastPromiseValue = value;\n",
              "    return next.value.response;\n",
              "  });\n",
              "}\n",
              "\n",
              "/**\n",
              " * Generator function which is called between each async step of the upload\n",
              " * process.\n",
              " * @param {string} inputId Element ID of the input file picker element.\n",
              " * @param {string} outputId Element ID of the output display.\n",
              " * @return {!Iterable<!Object>} Iterable of next steps.\n",
              " */\n",
              "function* uploadFilesStep(inputId, outputId) {\n",
              "  const inputElement = document.getElementById(inputId);\n",
              "  inputElement.disabled = false;\n",
              "\n",
              "  const outputElement = document.getElementById(outputId);\n",
              "  outputElement.innerHTML = '';\n",
              "\n",
              "  const pickedPromise = new Promise((resolve) => {\n",
              "    inputElement.addEventListener('change', (e) => {\n",
              "      resolve(e.target.files);\n",
              "    });\n",
              "  });\n",
              "\n",
              "  const cancel = document.createElement('button');\n",
              "  inputElement.parentElement.appendChild(cancel);\n",
              "  cancel.textContent = 'Cancel upload';\n",
              "  const cancelPromise = new Promise((resolve) => {\n",
              "    cancel.onclick = () => {\n",
              "      resolve(null);\n",
              "    };\n",
              "  });\n",
              "\n",
              "  // Wait for the user to pick the files.\n",
              "  const files = yield {\n",
              "    promise: Promise.race([pickedPromise, cancelPromise]),\n",
              "    response: {\n",
              "      action: 'starting',\n",
              "    }\n",
              "  };\n",
              "\n",
              "  cancel.remove();\n",
              "\n",
              "  // Disable the input element since further picks are not allowed.\n",
              "  inputElement.disabled = true;\n",
              "\n",
              "  if (!files) {\n",
              "    return {\n",
              "      response: {\n",
              "        action: 'complete',\n",
              "      }\n",
              "    };\n",
              "  }\n",
              "\n",
              "  for (const file of files) {\n",
              "    const li = document.createElement('li');\n",
              "    li.append(span(file.name, {fontWeight: 'bold'}));\n",
              "    li.append(span(\n",
              "        `(${file.type || 'n/a'}) - ${file.size} bytes, ` +\n",
              "        `last modified: ${\n",
              "            file.lastModifiedDate ? file.lastModifiedDate.toLocaleDateString() :\n",
              "                                    'n/a'} - `));\n",
              "    const percent = span('0% done');\n",
              "    li.appendChild(percent);\n",
              "\n",
              "    outputElement.appendChild(li);\n",
              "\n",
              "    const fileDataPromise = new Promise((resolve) => {\n",
              "      const reader = new FileReader();\n",
              "      reader.onload = (e) => {\n",
              "        resolve(e.target.result);\n",
              "      };\n",
              "      reader.readAsArrayBuffer(file);\n",
              "    });\n",
              "    // Wait for the data to be ready.\n",
              "    let fileData = yield {\n",
              "      promise: fileDataPromise,\n",
              "      response: {\n",
              "        action: 'continue',\n",
              "      }\n",
              "    };\n",
              "\n",
              "    // Use a chunked sending to avoid message size limits. See b/62115660.\n",
              "    let position = 0;\n",
              "    do {\n",
              "      const length = Math.min(fileData.byteLength - position, MAX_PAYLOAD_SIZE);\n",
              "      const chunk = new Uint8Array(fileData, position, length);\n",
              "      position += length;\n",
              "\n",
              "      const base64 = btoa(String.fromCharCode.apply(null, chunk));\n",
              "      yield {\n",
              "        response: {\n",
              "          action: 'append',\n",
              "          file: file.name,\n",
              "          data: base64,\n",
              "        },\n",
              "      };\n",
              "\n",
              "      let percentDone = fileData.byteLength === 0 ?\n",
              "          100 :\n",
              "          Math.round((position / fileData.byteLength) * 100);\n",
              "      percent.textContent = `${percentDone}% done`;\n",
              "\n",
              "    } while (position < fileData.byteLength);\n",
              "  }\n",
              "\n",
              "  // All done.\n",
              "  yield {\n",
              "    response: {\n",
              "      action: 'complete',\n",
              "    }\n",
              "  };\n",
              "}\n",
              "\n",
              "scope.google = scope.google || {};\n",
              "scope.google.colab = scope.google.colab || {};\n",
              "scope.google.colab._files = {\n",
              "  _uploadFiles,\n",
              "  _uploadFilesContinue,\n",
              "};\n",
              "})(self);\n",
              "</script> "
            ]
          },
          "metadata": {}
        },
        {
          "output_type": "stream",
          "name": "stdout",
          "text": [
            "Saving arrhythmia.names to arrhythmia.names\n"
          ]
        }
      ]
    },
    {
      "cell_type": "code",
      "source": [
        "f_in=open(\"arrhythmia.data\",'r')\n",
        "arrhythmia = f_in.readlines()\n",
        "f_in.close()\n",
        "len(arrhythmia)"
      ],
      "metadata": {
        "colab": {
          "base_uri": "https://localhost:8080/",
          "height": 217
        },
        "id": "1hB2lQzAvjmm",
        "outputId": "17ad5d14-6a6d-4cb6-b414-aa56bf32f299"
      },
      "execution_count": 9,
      "outputs": [
        {
          "output_type": "error",
          "ename": "FileNotFoundError",
          "evalue": "ignored",
          "traceback": [
            "\u001b[0;31m---------------------------------------------------------------------------\u001b[0m",
            "\u001b[0;31mFileNotFoundError\u001b[0m                         Traceback (most recent call last)",
            "\u001b[0;32m<ipython-input-9-764cf86bbd38>\u001b[0m in \u001b[0;36m<module>\u001b[0;34m\u001b[0m\n\u001b[0;32m----> 1\u001b[0;31m \u001b[0mf_in\u001b[0m\u001b[0;34m=\u001b[0m\u001b[0mopen\u001b[0m\u001b[0;34m(\u001b[0m\u001b[0;34m\"arrhythmia.data\"\u001b[0m\u001b[0;34m,\u001b[0m\u001b[0;34m'r'\u001b[0m\u001b[0;34m)\u001b[0m\u001b[0;34m\u001b[0m\u001b[0;34m\u001b[0m\u001b[0m\n\u001b[0m\u001b[1;32m      2\u001b[0m \u001b[0marrhythmia\u001b[0m \u001b[0;34m=\u001b[0m \u001b[0mf_in\u001b[0m\u001b[0;34m.\u001b[0m\u001b[0mreadlines\u001b[0m\u001b[0;34m(\u001b[0m\u001b[0;34m)\u001b[0m\u001b[0;34m\u001b[0m\u001b[0;34m\u001b[0m\u001b[0m\n\u001b[1;32m      3\u001b[0m \u001b[0mf_in\u001b[0m\u001b[0;34m.\u001b[0m\u001b[0mclose\u001b[0m\u001b[0;34m(\u001b[0m\u001b[0;34m)\u001b[0m\u001b[0;34m\u001b[0m\u001b[0;34m\u001b[0m\u001b[0m\n\u001b[1;32m      4\u001b[0m \u001b[0mlen\u001b[0m\u001b[0;34m(\u001b[0m\u001b[0marrhythmia\u001b[0m\u001b[0;34m)\u001b[0m\u001b[0;34m\u001b[0m\u001b[0;34m\u001b[0m\u001b[0m\n",
            "\u001b[0;31mFileNotFoundError\u001b[0m: [Errno 2] No such file or directory: 'arrhythmia.data'"
          ]
        }
      ]
    },
    {
      "cell_type": "markdown",
      "source": [
        "Uso de Lasso para obtener las columnas, ordenarlas y calcular la relación "
      ],
      "metadata": {
        "id": "Y_fo47kRTO81"
      }
    },
    {
      "cell_type": "code",
      "source": [
        "alturas_cm=[]\n",
        "pesos_kg=[]\n",
        "etiquetas=[]\n",
        "edades_year=[]\n",
        "QPRS_duration=[]\n",
        "for renglon in arrhythmia:\n",
        "  datos_ren_str = renglon.split(',')\n",
        "  try:\n",
        "      altura_cm = int(datos_ren_str[2])\n",
        "      if altura_cm > 200:\n",
        "      QPRS_duration = int(datos_ren_str[2])\n",
        "      if QPRS_duration > 60:\n",
        "          if QPRS_duration < 80:\n",
        "        continue\n",
        "      peso_kg = int(datos_ren_str[3])\n",
        "      etiqueta = int(datos_ren_str[-1])\n",
        "      edades_year=int(datos_ren_str[4])\n",
        "      QPRS_duration=int(datos_ren_str[10])\n",
        "  except:\n",
        "     continue\n",
        "  alturas_cm.append(altura_cm)\n",
        "  pesos_kg.append(peso_kg)\n",
        "  etiquetas.append(etiqueta)\n",
        "  edades_year.append(edad_year)\n",
        "  QPRS_duration.append(QPR)\n",
        "\n",
        "alturas_cm=np.array(alturas_cm)\n",
        "pesos_kg=np.array(pesos_kg)\n",
        "etiquetas=np.array(etiquetas)\n",
        "edades_year=np.array(edades_year)\n",
        "QPRS_duration.append(QPR) =np.array(QPRS_duration)\n",
        "alturas_cm[:10],min(alturas_cm),max(alturas_cm)"
      ],
      "metadata": {
        "id": "vsY5MVZpj7Vx",
        "colab": {
          "base_uri": "https://localhost:8080/",
          "height": 130
        },
        "outputId": "fd920059-bf1e-41d3-8140-94273c68837e"
      },
      "execution_count": 6,
      "outputs": [
        {
          "output_type": "error",
          "ename": "IndentationError",
          "evalue": "ignored",
          "traceback": [
            "\u001b[0;36m  File \u001b[0;32m\"<tokenize>\"\u001b[0;36m, line \u001b[0;32m14\u001b[0m\n\u001b[0;31m    continue\u001b[0m\n\u001b[0m    ^\u001b[0m\n\u001b[0;31mIndentationError\u001b[0m\u001b[0;31m:\u001b[0m unindent does not match any outer indentation level\n"
          ]
        }
      ]
    },
    {
      "cell_type": "code",
      "source": [
        "pesos_kg[:10],min(pesos_kg),max(pesos_kg)"
      ],
      "metadata": {
        "id": "5ycDSgc8m0QY"
      },
      "execution_count": null,
      "outputs": []
    },
    {
      "cell_type": "code",
      "source": [
        "etiquetas[:10],min(etiquetas),max(etiquetas)"
      ],
      "metadata": {
        "id": "U-QHAqJlnMmV"
      },
      "execution_count": null,
      "outputs": []
    },
    {
      "cell_type": "markdown",
      "source": [
        "A continuación se agrupan algunos pesos y algunas alturas."
      ],
      "metadata": {
        "id": "YkZRNKKnda1Y"
      }
    },
    {
      "cell_type": "code",
      "source": [
        "minima,maxima=min(pesos_kg),max(pesos_kg)\n",
        "peso_car=[int((peso-minima)/10) for peso in pesos_kg  ]\n",
        "num_peso_car=max(peso_car)\n",
        "peso_car[:10],min(peso_car),max(peso_car)"
      ],
      "metadata": {
        "id": "74tLnsYxpC9v"
      },
      "execution_count": null,
      "outputs": []
    },
    {
      "cell_type": "code",
      "source": [
        "minima,maxima=min(alturas_cm),max(alturas_cm)\n",
        "altura_car=[int((altura-minima)/10) for altura in alturas_cm  ]\n",
        "num_altura_car=max(altura_car)\n",
        "altura_car[:10],min(altura_car),max(altura_car)"
      ],
      "metadata": {
        "id": "DPpBWBC7q3QB"
      },
      "execution_count": null,
      "outputs": []
    },
    {
      "cell_type": "code",
      "source": [
        "etiqueta_carac=[etiqueta-1 for etiqueta in etiquetas]\n",
        "num_etiqueta_carac=max(etiqueta_carac)\n",
        "etiqueta_carac[:10],min(etiqueta_carac),max(etiqueta_carac)"
      ],
      "metadata": {
        "id": "Xg64oHsAul5t"
      },
      "execution_count": null,
      "outputs": []
    },
    {
      "cell_type": "code",
      "source": [
        "import numpy as np\n",
        "X=np.array([peso_car,altura_car]).T\n",
        "X.shape"
      ],
      "metadata": {
        "id": "4yTcLKq3vS7a"
      },
      "execution_count": null,
      "outputs": []
    },
    {
      "cell_type": "code",
      "source": [
        "y=np.array(etiqueta_carac)\n",
        "y.shape"
      ],
      "metadata": {
        "id": "CTMiRlvAxNKP"
      },
      "execution_count": null,
      "outputs": []
    },
    {
      "cell_type": "code",
      "source": [],
      "metadata": {
        "id": "HkCrYTrALNnR"
      },
      "execution_count": null,
      "outputs": []
    },
    {
      "cell_type": "markdown",
      "source": [
        "\n",
        "Se dividen los datos para entrenamiento y pruebas, para ello se usarán 70%/30%,  para evitar el overfittitng \n"
      ],
      "metadata": {
        "id": "zG6m3mdUKBAY"
      }
    },
    {
      "cell_type": "code",
      "source": [
        "from sklearn.model_selection import train_test_split\n",
        "X_train, X_test, y_train, y_test = train_test_split( X, y, test_size=0.33, random_state=42)\n",
        "X_train.shape, X_test.shape, y_train.shape, y_test.shape"
      ],
      "metadata": {
        "id": "xlXSnuu3KAbf"
      },
      "execution_count": null,
      "outputs": []
    },
    {
      "cell_type": "markdown",
      "source": [
        "##  Etiqueta que más se repite\n",
        "\n",
        "Este modelo sólo se usa como medida para comparar los otros modelos. \n",
        "\n",
        "\n"
      ],
      "metadata": {
        "id": "yZb4Xer-RS0C"
      }
    },
    {
      "cell_type": "code",
      "source": [
        "cuenta_etiquetas={}\n",
        "for etiqueta in y_train:\n",
        "  if etiqueta in cuenta_etiquetas:\n",
        "    cuenta_etiquetas[etiqueta] += 1\n",
        "  else:\n",
        "    cuenta_etiquetas[etiqueta] = 1\n",
        "\n",
        "\n",
        "cuenta_etiquetas"
      ],
      "metadata": {
        "id": "6SoxxMYfRCOb"
      },
      "execution_count": null,
      "outputs": []
    },
    {
      "cell_type": "markdown",
      "source": [
        "Algunos modelos requieren balancear el conjunto de datos"
      ],
      "metadata": {
        "id": "wmqQRZrZVHmy"
      }
    },
    {
      "cell_type": "code",
      "source": [
        "suma=0\n",
        "maximo=-1\n",
        "eti_max=-1\n",
        "\n",
        "for etiqueta in cuenta_etiquetas:\n",
        "  valor=cuenta_etiquetas[etiqueta]\n",
        "  suma += valor\n",
        "  if valor > maximo:\n",
        "    maximo = valor\n",
        "    eti_max = etiqueta\n",
        "\n",
        "f'Asumiendo siempre {eti_max} tiene una exctitud (accuracy) {maximo/suma}'"
      ],
      "metadata": {
        "id": "ApYzSOavTXJO"
      },
      "execution_count": null,
      "outputs": []
    },
    {
      "cell_type": "code",
      "source": [
        "from sklearn.metrics import accuracy_score\n",
        "\n",
        "accuracy_score(y_train, [0]*len(y_train))"
      ],
      "metadata": {
        "id": "0QnzthhezWNe"
      },
      "execution_count": null,
      "outputs": []
    },
    {
      "cell_type": "code",
      "source": [
        "from sklearn.metrics import accuracy_score\n",
        "\n",
        "accuracy_score(y_test, [0]*len(y_test))"
      ],
      "metadata": {
        "id": "r5qBAIq5MMwp"
      },
      "execution_count": null,
      "outputs": []
    },
    {
      "cell_type": "code",
      "source": [
        "from sklearn.metrics import confusion_matrix\n",
        "confusion_matrix(y_train, [0]*len(y_train))\n"
      ],
      "metadata": {
        "id": "2g4dH3Owyl1p"
      },
      "execution_count": null,
      "outputs": []
    },
    {
      "cell_type": "code",
      "source": [
        "from sklearn.metrics import confusion_matrix\n",
        "confusion_matrix(y_test, [0]*len(y_test))"
      ],
      "metadata": {
        "colab": {
          "base_uri": "https://localhost:8080/",
          "height": 182
        },
        "id": "RvVOfS6fMKxn",
        "outputId": "778fb633-e701-46fc-b7f9-82880b5986d3"
      },
      "execution_count": null,
      "outputs": [
        {
          "output_type": "error",
          "ename": "NameError",
          "evalue": "ignored",
          "traceback": [
            "\u001b[0;31m---------------------------------------------------------------------------\u001b[0m",
            "\u001b[0;31mNameError\u001b[0m                                 Traceback (most recent call last)",
            "\u001b[0;32m<ipython-input-5-7445f446d433>\u001b[0m in \u001b[0;36m<module>\u001b[0;34m\u001b[0m\n\u001b[1;32m      1\u001b[0m \u001b[0;32mfrom\u001b[0m \u001b[0msklearn\u001b[0m\u001b[0;34m.\u001b[0m\u001b[0mmetrics\u001b[0m \u001b[0;32mimport\u001b[0m \u001b[0mconfusion_matrix\u001b[0m\u001b[0;34m\u001b[0m\u001b[0;34m\u001b[0m\u001b[0m\n\u001b[0;32m----> 2\u001b[0;31m \u001b[0mconfusion_matrix\u001b[0m\u001b[0;34m(\u001b[0m\u001b[0my_test\u001b[0m\u001b[0;34m,\u001b[0m \u001b[0;34m[\u001b[0m\u001b[0;36m0\u001b[0m\u001b[0;34m]\u001b[0m\u001b[0;34m*\u001b[0m\u001b[0mlen\u001b[0m\u001b[0;34m(\u001b[0m\u001b[0my_test\u001b[0m\u001b[0;34m)\u001b[0m\u001b[0;34m)\u001b[0m\u001b[0;34m\u001b[0m\u001b[0;34m\u001b[0m\u001b[0m\n\u001b[0m",
            "\u001b[0;31mNameError\u001b[0m: name 'y_test' is not defined"
          ]
        }
      ]
    },
    {
      "cell_type": "markdown",
      "source": [
        "## Clasificador Bayesiano\n",
        "\n",
        "Para ese ejemplo vamos a usar unn clasificador bayesiano categórico, https://scikit-learn.org/stable/modules/generated/sklearn.naive_bayes.CategoricalNB.html#sklearn.naive_bayes.CategoricalNB\n",
        "\n",
        "Este clasificador requiere que si una característica tiene $n$ categorías, entonces estas estén codificadas entre $0$ y $n-1$   \n",
        "\n"
      ],
      "metadata": {
        "id": "p9yGfRsebmoK"
      }
    },
    {
      "cell_type": "code",
      "source": [
        "from sklearn.naive_bayes import CategoricalNB\n",
        "clf = CategoricalNB()\n",
        "clf.fit(X_train, y_train)\n",
        "print(clf.predict(X[2:3]))"
      ],
      "metadata": {
        "id": "oUOmWWOrYKvo"
      },
      "execution_count": null,
      "outputs": []
    },
    {
      "cell_type": "code",
      "source": [
        "accuracy_score(y_train, clf.predict(X_train))"
      ],
      "metadata": {
        "id": "IQ9MG-zRzmcg"
      },
      "execution_count": null,
      "outputs": []
    },
    {
      "cell_type": "code",
      "source": [
        "accuracy_score(y_test, clf.predict(X_test))"
      ],
      "metadata": {
        "id": "Ag9m79GcMy9R"
      },
      "execution_count": null,
      "outputs": []
    },
    {
      "cell_type": "code",
      "source": [
        "from sklearn.metrics import confusion_matrix\n",
        "confusion_matrix(y_train, clf.predict(X_train))"
      ],
      "metadata": {
        "id": "WmuIeWzKyHmv"
      },
      "execution_count": null,
      "outputs": []
    },
    {
      "cell_type": "code",
      "source": [
        "confusion_matrix(y_test, clf.predict(X_test))"
      ],
      "metadata": {
        "id": "qqvSAZksM-K3"
      },
      "execution_count": null,
      "outputs": []
    },
    {
      "cell_type": "markdown",
      "source": [
        "## Característica más acertada\n",
        "\n",
        "Este modelo, por lo básico, usualmente sólo es usado para como referencia para comparar los otros modelos.\n",
        "\n",
        "\n",
        "### Peso"
      ],
      "metadata": {
        "id": "Xeno0tEgoVi1"
      }
    },
    {
      "cell_type": "code",
      "source": [
        "peso_eti=np.zeros((num_peso_car+1,num_etiqueta_carac+1))\n",
        "peso_eti.shape"
      ],
      "metadata": {
        "id": "x-HcRJAwmW_0"
      },
      "execution_count": null,
      "outputs": []
    },
    {
      "cell_type": "code",
      "source": [
        "for i in range(len(peso_car)):\n",
        "  #print(peso_car[i],etiqueta_carac[i])\n",
        "  peso_eti[peso_car[i],etiqueta_carac[i]] +=1\n",
        "peso_eti"
      ],
      "metadata": {
        "id": "tdEn0rXsmW7S"
      },
      "execution_count": null,
      "outputs": []
    },
    {
      "cell_type": "code",
      "source": [
        "peso_eti.shape"
      ],
      "metadata": {
        "id": "PCm1Ga8uRS4r"
      },
      "execution_count": null,
      "outputs": []
    },
    {
      "cell_type": "code",
      "source": [
        "a_max_p=np.argmax(peso_eti,axis=1)\n",
        "a_max_p"
      ],
      "metadata": {
        "id": "9u_MognOmW2b"
      },
      "execution_count": null,
      "outputs": []
    },
    {
      "cell_type": "code",
      "source": [
        "X.shape"
      ],
      "metadata": {
        "id": "SAcSvd4FREpL"
      },
      "execution_count": null,
      "outputs": []
    },
    {
      "cell_type": "code",
      "source": [
        "def pred_car(X,i,respuestas):\n",
        "\n",
        "  return [respuestas[int(dat)] for dat in X[:,i] ]\n",
        "\n",
        "accuracy_score(y_train, pred_car(X_train,0,a_max_p))"
      ],
      "metadata": {
        "id": "SKjDc_VNID__"
      },
      "execution_count": null,
      "outputs": []
    },
    {
      "cell_type": "code",
      "source": [
        "accuracy_score(y_test, pred_car(X_test,0,a_max_p))"
      ],
      "metadata": {
        "id": "jtoGyPE-Xaz9"
      },
      "execution_count": null,
      "outputs": []
    },
    {
      "cell_type": "markdown",
      "source": [
        "### Altura"
      ],
      "metadata": {
        "id": "l57KkSMuSg0o"
      }
    },
    {
      "cell_type": "code",
      "source": [
        "alt_eti=np.zeros((num_altura_car+1,num_etiqueta_carac+1))\n",
        "alt_eti.shape"
      ],
      "metadata": {
        "id": "u4Ma6LnmSg0o"
      },
      "execution_count": null,
      "outputs": []
    },
    {
      "cell_type": "code",
      "source": [
        "for i in range(len(altura_car)):\n",
        "  #print(peso_car[i],etiqueta_carac[i])\n",
        "  alt_eti[altura_car[i],etiqueta_carac[i]] +=1\n",
        "alt_eti"
      ],
      "metadata": {
        "id": "_-Q5-NlISg0o"
      },
      "execution_count": null,
      "outputs": []
    },
    {
      "cell_type": "code",
      "source": [
        "alt_eti.shape"
      ],
      "metadata": {
        "id": "ukh_4rOBSg0o"
      },
      "execution_count": null,
      "outputs": []
    },
    {
      "cell_type": "code",
      "source": [
        "a_max_alt=np.argmax(alt_eti,axis=1)\n",
        "a_max_alt"
      ],
      "metadata": {
        "id": "8Gk-B6vTSg0o"
      },
      "execution_count": null,
      "outputs": []
    },
    {
      "cell_type": "code",
      "source": [
        "X.shape"
      ],
      "metadata": {
        "id": "qDjbpZG1Sg0o"
      },
      "execution_count": null,
      "outputs": []
    },
    {
      "cell_type": "code",
      "source": [
        "def pred_car(X,i,respuestas):\n",
        "\n",
        "  return [respuestas[int(dat)] for dat in X[:,i] ]\n",
        "\n",
        "accuracy_score(y_train, pred_car(X_train,1,a_max_alt))"
      ],
      "metadata": {
        "id": "UAoTQYdkSg0p"
      },
      "execution_count": null,
      "outputs": []
    },
    {
      "cell_type": "code",
      "source": [
        "accuracy_score(y_test, pred_car(X_test,1,a_max_alt))"
      ],
      "metadata": {
        "id": "FLUuBlpEID8n"
      },
      "execution_count": null,
      "outputs": []
    }
  ]
}